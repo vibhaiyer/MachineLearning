{
 "cells": [
  {
   "cell_type": "code",
   "execution_count": 2,
   "metadata": {},
   "outputs": [],
   "source": [
    "k =2\n",
    "q=3\n",
    "import statistics"
   ]
  },
  {
   "cell_type": "code",
   "execution_count": 9,
   "metadata": {},
   "outputs": [
    {
     "name": "stdout",
     "output_type": "stream",
     "text": [
      "2.3\n",
      "0.9486832980505138\n",
      "15.49516053482506\n",
      "edge is inconsistent\n"
     ]
    }
   ],
   "source": [
    "#edge 1\n",
    "#find all the paths upto length k from edge 1 (don't include edge1)\n",
    "#make a list of all these edges (don't add or repeat the edges)\n",
    "\n",
    "#list_e0 = [e1,e4,e2,e7,e9,e6] This is the list of edges from e0 to other edge with k=1\n",
    "#list_e0 = [e5,e3,e8,e10] This is the list of edges from e0 to other edge with k=2\n",
    "#so the final list will be combination of both\n",
    "\n",
    "e0 = 17\n",
    "#list_e0 = [e1,e4,e2,e7,e9,e6,e5,e3,e8,e10]\n",
    "list_e0 = [2,2,1,2,1,2,3,3,3,4]\n",
    "\n",
    "#calculation\n",
    "mean_val = statistics.mean(list_e0)\n",
    "stdev = statistics.stdev(list_e0)\n",
    "print(mean_val)\n",
    "print(stdev)\n",
    "q_cal = (e0-mean_val)/stdev\n",
    "print(q_cal)\n",
    "if(q_cal>q):\n",
    "    print(\"edge is inconsistent\")"
   ]
  },
  {
   "cell_type": "code",
   "execution_count": null,
   "metadata": {},
   "outputs": [],
   "source": []
  }
 ],
 "metadata": {
  "kernelspec": {
   "display_name": "Python 3",
   "language": "python",
   "name": "python3"
  },
  "language_info": {
   "codemirror_mode": {
    "name": "ipython",
    "version": 3
   },
   "file_extension": ".py",
   "mimetype": "text/x-python",
   "name": "python",
   "nbconvert_exporter": "python",
   "pygments_lexer": "ipython3",
   "version": "3.8.3"
  }
 },
 "nbformat": 4,
 "nbformat_minor": 4
}
