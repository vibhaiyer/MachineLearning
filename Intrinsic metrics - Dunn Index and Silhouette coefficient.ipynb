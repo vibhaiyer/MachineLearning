{
 "cells": [
  {
   "cell_type": "markdown",
   "metadata": {},
   "source": [
    "### Dunn  Index and Silhouette Coefficient"
   ]
  },
  {
   "cell_type": "code",
   "execution_count": 1,
   "metadata": {},
   "outputs": [],
   "source": [
    "#cluster 1 - datapoints\n",
    "c1 = [(5.5,2),\n",
    "      (6.5,3)]\n",
    "\n",
    "#cluster 2 - datapoints\n",
    "c2 = [(1,1.5),\n",
    "      (2,2),\n",
    "      (3,1.5),\n",
    "      (2,1)]\n",
    "\n",
    "#cluster 3 - datapoints\n",
    "c3 = [(2.5,4),\n",
    "      (4,4.5),\n",
    "      (5,4.5),\n",
    "      (4.5,3.5)]"
   ]
  },
  {
   "cell_type": "code",
   "execution_count": 6,
   "metadata": {},
   "outputs": [],
   "source": [
    "import numpy as np\n",
    "def intra_distance(c):\n",
    "    e = 0.0\n",
    "    dist_intra = []\n",
    "    for i in range(len(c)-1):\n",
    "        for j in range(i+1,len(c)):\n",
    "            e += pow((float(c[i][0])-float(c[j][0])),2)  #euclidean distance\n",
    "            e += pow((float(c[i][1])-float(c[j][1])),2)\n",
    "            e = np.sqrt(e)\n",
    "            dist_intra.append(e)\n",
    "            print(\"Distance between points (\",c[i][0],\",\",c[i][1],\") & (\",c[j][0],\",\",c[j][1],\") is :\",e)\n",
    "            e = 0.0\n",
    "    print(\"-----------------------------------------------\")\n",
    "    return dist_intra\n"
   ]
  },
  {
   "cell_type": "code",
   "execution_count": 3,
   "metadata": {},
   "outputs": [],
   "source": [
    "def inter_distance(c1,c2):\n",
    "    dist = 0.0\n",
    "    dist_inter = []\n",
    "    for point1 in c1:\n",
    "        for point2 in c2:\n",
    "            dist += pow((float(point1[0])-float(point2[0])),2)  #euclidean distance\n",
    "            dist += pow((float(point1[1])-float(point2[1])),2)\n",
    "            dist = np.sqrt(dist)\n",
    "            print(\"Distance between points\",point1,\"&\",point2,\" is :\",dist)\n",
    "            dist_inter.append(dist)\n",
    "            dist = 0.0 \n",
    "    print(\"-----------------------------------------------\")\n",
    "    return dist_inter"
   ]
  },
  {
   "cell_type": "markdown",
   "metadata": {},
   "source": [
    "### Dunn Index"
   ]
  },
  {
   "cell_type": "code",
   "execution_count": 7,
   "metadata": {},
   "outputs": [
    {
     "name": "stdout",
     "output_type": "stream",
     "text": [
      "Distance between points (5.5, 2) & (1, 1.5)  is : 4.527692569068709\n",
      "Distance between points (5.5, 2) & (2, 2)  is : 3.5\n",
      "Distance between points (5.5, 2) & (3, 1.5)  is : 2.5495097567963922\n",
      "Distance between points (5.5, 2) & (2, 1)  is : 3.640054944640259\n",
      "Distance between points (6.5, 3) & (1, 1.5)  is : 5.70087712549569\n",
      "Distance between points (6.5, 3) & (2, 2)  is : 4.6097722286464435\n",
      "Distance between points (6.5, 3) & (3, 1.5)  is : 3.8078865529319543\n",
      "Distance between points (6.5, 3) & (2, 1)  is : 4.924428900898052\n",
      "-----------------------------------------------\n",
      "Distance between points (1, 1.5) & (2.5, 4)  is : 2.9154759474226504\n",
      "Distance between points (1, 1.5) & (4, 4.5)  is : 4.242640687119285\n",
      "Distance between points (1, 1.5) & (5, 4.5)  is : 5.0\n",
      "Distance between points (1, 1.5) & (4.5, 3.5)  is : 4.031128874149275\n",
      "Distance between points (2, 2) & (2.5, 4)  is : 2.0615528128088303\n",
      "Distance between points (2, 2) & (4, 4.5)  is : 3.2015621187164243\n",
      "Distance between points (2, 2) & (5, 4.5)  is : 3.905124837953327\n",
      "Distance between points (2, 2) & (4.5, 3.5)  is : 2.9154759474226504\n",
      "Distance between points (3, 1.5) & (2.5, 4)  is : 2.5495097567963922\n",
      "Distance between points (3, 1.5) & (4, 4.5)  is : 3.1622776601683795\n",
      "Distance between points (3, 1.5) & (5, 4.5)  is : 3.605551275463989\n",
      "Distance between points (3, 1.5) & (4.5, 3.5)  is : 2.5\n",
      "Distance between points (2, 1) & (2.5, 4)  is : 3.0413812651491097\n",
      "Distance between points (2, 1) & (4, 4.5)  is : 4.031128874149275\n",
      "Distance between points (2, 1) & (5, 4.5)  is : 4.6097722286464435\n",
      "Distance between points (2, 1) & (4.5, 3.5)  is : 3.5355339059327378\n",
      "-----------------------------------------------\n",
      "Distance between points (5.5, 2) & (2.5, 4)  is : 3.605551275463989\n",
      "Distance between points (5.5, 2) & (4, 4.5)  is : 2.9154759474226504\n",
      "Distance between points (5.5, 2) & (5, 4.5)  is : 2.5495097567963922\n",
      "Distance between points (5.5, 2) & (4.5, 3.5)  is : 1.8027756377319946\n",
      "Distance between points (6.5, 3) & (2.5, 4)  is : 4.123105625617661\n",
      "Distance between points (6.5, 3) & (4, 4.5)  is : 2.9154759474226504\n",
      "Distance between points (6.5, 3) & (5, 4.5)  is : 2.1213203435596424\n",
      "Distance between points (6.5, 3) & (4.5, 3.5)  is : 2.0615528128088303\n",
      "-----------------------------------------------\n",
      "min value: 1.8027756377319946\n",
      "Distance between points ( 5.5 , 2 ) & ( 6.5 , 3 ) is : 1.4142135623730951\n",
      "-----------------------------------------------\n",
      "Distance between points ( 1 , 1.5 ) & ( 2 , 2 ) is : 1.118033988749895\n",
      "Distance between points ( 1 , 1.5 ) & ( 3 , 1.5 ) is : 2.0\n",
      "Distance between points ( 1 , 1.5 ) & ( 2 , 1 ) is : 1.118033988749895\n",
      "Distance between points ( 2 , 2 ) & ( 3 , 1.5 ) is : 1.118033988749895\n",
      "Distance between points ( 2 , 2 ) & ( 2 , 1 ) is : 1.0\n",
      "Distance between points ( 3 , 1.5 ) & ( 2 , 1 ) is : 1.118033988749895\n",
      "-----------------------------------------------\n",
      "Distance between points ( 2.5 , 4 ) & ( 4 , 4.5 ) is : 1.5811388300841898\n",
      "Distance between points ( 2.5 , 4 ) & ( 5 , 4.5 ) is : 2.5495097567963922\n",
      "Distance between points ( 2.5 , 4 ) & ( 4.5 , 3.5 ) is : 2.0615528128088303\n",
      "Distance between points ( 4 , 4.5 ) & ( 5 , 4.5 ) is : 1.0\n",
      "Distance between points ( 4 , 4.5 ) & ( 4.5 , 3.5 ) is : 1.118033988749895\n",
      "Distance between points ( 5 , 4.5 ) & ( 4.5 , 3.5 ) is : 1.118033988749895\n",
      "-----------------------------------------------\n",
      "max value: 2.5495097567963922\n",
      "Dunn Index: 0.7071067811865476\n"
     ]
    }
   ],
   "source": [
    "dist_inter = inter_distance(c1,c2) + inter_distance(c2,c3) + inter_distance(c1,c3 )\n",
    "print(\"min value:\",min(dist_inter))\n",
    "\n",
    "dist_intra = intra_distance(c1) + intra_distance(c2) + intra_distance(c3)#cluster1\n",
    "print(\"max value:\",max(dist_intra))\n",
    "print(\"Dunn Index:\",min(dist_inter)/max(dist_intra))"
   ]
  },
  {
   "cell_type": "markdown",
   "metadata": {},
   "source": [
    "### Silhouette coefficient"
   ]
  },
  {
   "cell_type": "code",
   "execution_count": 36,
   "metadata": {},
   "outputs": [],
   "source": [
    "def distance_point(point, c):\n",
    "    e = 0.0\n",
    "    dist_intra = []\n",
    "    for point1 in c:\n",
    "        e += pow((float(point[0])-float(point1[0])),2)  #euclidean distance\n",
    "        e += pow((float(point[1])-float(point1[1])),2)\n",
    "        e = np.sqrt(e)\n",
    "        dist_intra.append(e)\n",
    "#        print(\"\\tDistance between points\",point,\"&\",point1,\" is :\",e)\n",
    "        e = 0.0\n",
    "#    print(\"\\t-----------------------------------------------\")\n",
    "    return dist_intra\n"
   ]
  },
  {
   "cell_type": "code",
   "execution_count": 37,
   "metadata": {},
   "outputs": [],
   "source": [
    "def silhouette(cluster1, cluster2, cluster3) :\n",
    "    print(\"Silhouette coefficient objects of cluster\", cluster1)\n",
    "    for point in cluster1:\n",
    "        b_i = []\n",
    "        print(\"For point\", point)\n",
    "        c1_copy = cluster1.copy()\n",
    "        c1_copy.remove(point)\n",
    "        a_i = np.mean(distance_point(point,c1_copy))\n",
    "        print(\"Mean of cluster distance from point\", point,\"is mean(a_i) = \",a_i)\n",
    "        b_i_c2 = np.mean(distance_point(point,cluster2))\n",
    "        print(\"Mean distance from point\", point, \"to cluster\", cluster2 ,\"(d(i,cluster))\",b_i_c2)\n",
    "        b_i.append(b_i_c2)\n",
    "        b_i_c3 = np.mean(distance_point(point,cluster3))\n",
    "        print(\"Mean distance from point\", point, \"to cluster\", cluster3 ,\"(d(i,cluster))\",b_i_c3)\n",
    "        b_i.append(b_i_c3)\n",
    "        print(\"Minimum mean\",min(b_i))\n",
    "        sillhoutte = (min(b_i) - a_i)/(max(min(b_i),a_i))\n",
    "        print(\"sillhoutte:\",sillhoutte)\n",
    "        print(\"-----------------------------------------------\")\n",
    "    print(\"****************************************\")"
   ]
  },
  {
   "cell_type": "code",
   "execution_count": 38,
   "metadata": {},
   "outputs": [
    {
     "name": "stdout",
     "output_type": "stream",
     "text": [
      "Silhouette coefficient objects of cluster [(5.5, 2), (6.5, 3)]\n",
      "For point (5.5, 2)\n",
      "Mean of cluster distance from point (5.5, 2) is mean(a_i) =  1.4142135623730951\n",
      "Mean distance from point (5.5, 2) to cluster [(1, 1.5), (2, 2), (3, 1.5), (2, 1)] (d(i,cluster)) 3.55431431762634\n",
      "Mean distance from point (5.5, 2) to cluster [(2.5, 4), (4, 4.5), (5, 4.5), (4.5, 3.5)] (d(i,cluster)) 2.718328154353756\n",
      "Minimum mean 2.718328154353756\n",
      "sillhoutte: 0.4797487712776516\n",
      "-----------------------------------------------\n",
      "For point (6.5, 3)\n",
      "Mean of cluster distance from point (6.5, 3) is mean(a_i) =  1.4142135623730951\n",
      "Mean distance from point (6.5, 3) to cluster [(1, 1.5), (2, 2), (3, 1.5), (2, 1)] (d(i,cluster)) 4.760741201993035\n",
      "Mean distance from point (6.5, 3) to cluster [(2.5, 4), (4, 4.5), (5, 4.5), (4.5, 3.5)] (d(i,cluster)) 2.805363682352196\n",
      "Minimum mean 2.805363682352196\n",
      "sillhoutte: 0.49588940240812973\n",
      "-----------------------------------------------\n",
      "****************************************\n",
      "Silhouette coefficient objects of cluster [(1, 1.5), (2, 2), (3, 1.5), (2, 1)]\n",
      "For point (1, 1.5)\n",
      "Mean of cluster distance from point (1, 1.5) is mean(a_i) =  1.4120226591665965\n",
      "Mean distance from point (1, 1.5) to cluster [(1, 1.5), (2, 2), (3, 1.5), (2, 1)] (d(i,cluster)) 1.0590169943749475\n",
      "Mean distance from point (1, 1.5) to cluster [(1, 1.5), (2, 2), (3, 1.5), (2, 1)] (d(i,cluster)) 1.0590169943749475\n",
      "Minimum mean 1.0590169943749475\n",
      "sillhoutte: -0.24999999999999997\n",
      "-----------------------------------------------\n",
      "For point (2, 2)\n",
      "Mean of cluster distance from point (2, 2) is mean(a_i) =  1.0786893258332633\n",
      "Mean distance from point (2, 2) to cluster [(1, 1.5), (2, 2), (3, 1.5), (2, 1)] (d(i,cluster)) 0.8090169943749475\n",
      "Mean distance from point (2, 2) to cluster [(1, 1.5), (2, 2), (3, 1.5), (2, 1)] (d(i,cluster)) 0.8090169943749475\n",
      "Minimum mean 0.8090169943749475\n",
      "sillhoutte: -0.25\n",
      "-----------------------------------------------\n",
      "For point (3, 1.5)\n",
      "Mean of cluster distance from point (3, 1.5) is mean(a_i) =  1.4120226591665965\n",
      "Mean distance from point (3, 1.5) to cluster [(1, 1.5), (2, 2), (3, 1.5), (2, 1)] (d(i,cluster)) 1.0590169943749475\n",
      "Mean distance from point (3, 1.5) to cluster [(1, 1.5), (2, 2), (3, 1.5), (2, 1)] (d(i,cluster)) 1.0590169943749475\n",
      "Minimum mean 1.0590169943749475\n",
      "sillhoutte: -0.24999999999999997\n",
      "-----------------------------------------------\n",
      "For point (2, 1)\n",
      "Mean of cluster distance from point (2, 1) is mean(a_i) =  1.0786893258332633\n",
      "Mean distance from point (2, 1) to cluster [(1, 1.5), (2, 2), (3, 1.5), (2, 1)] (d(i,cluster)) 0.8090169943749475\n",
      "Mean distance from point (2, 1) to cluster [(1, 1.5), (2, 2), (3, 1.5), (2, 1)] (d(i,cluster)) 0.8090169943749475\n",
      "Minimum mean 0.8090169943749475\n",
      "sillhoutte: -0.25\n",
      "-----------------------------------------------\n",
      "****************************************\n",
      "Silhouette coefficient objects of cluster [(2.5, 4), (4, 4.5), (5, 4.5), (4.5, 3.5)]\n",
      "For point (2.5, 4)\n",
      "Mean of cluster distance from point (2.5, 4) is mean(a_i) =  2.064067133229804\n",
      "Mean distance from point (2.5, 4) to cluster [(1, 1.5), (2, 2), (3, 1.5), (2, 1)] (d(i,cluster)) 2.6419799455442456\n",
      "Mean distance from point (2.5, 4) to cluster [(5.5, 2), (6.5, 3)] (d(i,cluster)) 3.8643284505408246\n",
      "Minimum mean 2.6419799455442456\n",
      "sillhoutte: 0.21874231607590494\n",
      "-----------------------------------------------\n",
      "For point (4, 4.5)\n",
      "Mean of cluster distance from point (4, 4.5) is mean(a_i) =  1.2330576062780283\n",
      "Mean distance from point (4, 4.5) to cluster [(1, 1.5), (2, 2), (3, 1.5), (2, 1)] (d(i,cluster)) 3.6594023350383407\n",
      "Mean distance from point (4, 4.5) to cluster [(5.5, 2), (6.5, 3)] (d(i,cluster)) 2.9154759474226504\n",
      "Minimum mean 2.9154759474226504\n",
      "sillhoutte: 0.5770647302482189\n",
      "-----------------------------------------------\n",
      "For point (5, 4.5)\n",
      "Mean of cluster distance from point (5, 4.5) is mean(a_i) =  1.5558479151820956\n",
      "Mean distance from point (5, 4.5) to cluster [(1, 1.5), (2, 2), (3, 1.5), (2, 1)] (d(i,cluster)) 4.28011208551594\n",
      "Mean distance from point (5, 4.5) to cluster [(5.5, 2), (6.5, 3)] (d(i,cluster)) 2.3354150501780175\n",
      "Minimum mean 2.3354150501780175\n",
      "sillhoutte: 0.33380239411255797\n",
      "-----------------------------------------------\n",
      "For point (4.5, 3.5)\n",
      "Mean of cluster distance from point (4.5, 3.5) is mean(a_i) =  1.4325402634362068\n",
      "Mean distance from point (4.5, 3.5) to cluster [(1, 1.5), (2, 2), (3, 1.5), (2, 1)] (d(i,cluster)) 3.2455346818761655\n",
      "Mean distance from point (4.5, 3.5) to cluster [(5.5, 2), (6.5, 3)] (d(i,cluster)) 1.9321642252704123\n",
      "Minimum mean 1.9321642252704123\n",
      "sillhoutte: 0.2585825548883049\n",
      "-----------------------------------------------\n",
      "****************************************\n"
     ]
    }
   ],
   "source": [
    "silhouette(c1, c2, c3)\n",
    "silhouette(c2, c2, c2)\n",
    "silhouette(c3, c2, c1)"
   ]
  },
  {
   "cell_type": "code",
   "execution_count": null,
   "metadata": {},
   "outputs": [],
   "source": []
  }
 ],
 "metadata": {
  "kernelspec": {
   "display_name": "Python 3",
   "language": "python",
   "name": "python3"
  },
  "language_info": {
   "codemirror_mode": {
    "name": "ipython",
    "version": 3
   },
   "file_extension": ".py",
   "mimetype": "text/x-python",
   "name": "python",
   "nbconvert_exporter": "python",
   "pygments_lexer": "ipython3",
   "version": "3.8.3"
  }
 },
 "nbformat": 4,
 "nbformat_minor": 4
}
