{
 "cells": [
  {
   "cell_type": "code",
   "execution_count": 1,
   "metadata": {},
   "outputs": [],
   "source": [
    "import pandas as pd\n",
    "import numpy as np"
   ]
  },
  {
   "cell_type": "code",
   "execution_count": 2,
   "metadata": {},
   "outputs": [],
   "source": [
    "def probability(val,total) :\n",
    "    prob = val/total\n",
    "    return prob"
   ]
  },
  {
   "cell_type": "code",
   "execution_count": 3,
   "metadata": {},
   "outputs": [],
   "source": [
    "def overall_probability(test_data):\n",
    "    #making dictionary of every class\n",
    "    output_class = dict()\n",
    "    for every_value in test_data:\n",
    "        isPresent = every_value in output_class\n",
    "        if(isPresent == False):\n",
    "            output_class[every_value] = 1\n",
    "        else:\n",
    "            output_class[every_value] += 1\n",
    "    print(output_class)\n",
    "   \n",
    "    #calculating total\n",
    "    values = output_class.values()\n",
    "    total = sum(values)\n",
    "    print(\"Total number of data : \", total)\n",
    "    \n",
    "    #calculating entropy of each key in the dictionary\n",
    "    probability_dict = dict()\n",
    "    probability_list = []\n",
    "    for every_key in output_class.keys() :\n",
    "        val = output_class[every_key]\n",
    "        probability_list.append(val/total)\n",
    "        print(\"\\Probability of\",every_key,\"is: \", val, \"/\", total, \"=\", probability(val,total))\n",
    "        probability_dict[every_key] = probability(val,total)\n",
    "#    print(probability_list)\n",
    "    print(\"\\033[1m\\nOverall Probability is : \", sum(probability_list), \"\\033[0m\")\n",
    "    return probability_dict"
   ]
  },
  {
   "cell_type": "code",
   "execution_count": 4,
   "metadata": {},
   "outputs": [],
   "source": [
    "def node_classification(feature_data):\n",
    "    classes_dict = dict()\n",
    "    features_dict = dict()\n",
    "\n",
    "    i=0\n",
    "    for feature in feature_data:\n",
    "        isPresent = classes[i] in classes_dict\n",
    "        if(isPresent == False):\n",
    "            classes_dict[classes[i]] = 1\n",
    "            child = classes[i] + \" and \" + feature\n",
    "            isPresent = child in features_dict\n",
    "            if(isPresent == False):\n",
    "                features_dict[child] = 1\n",
    "            else :\n",
    "                features_dict[child] += 1\n",
    "        else:\n",
    "            classes_dict[classes[i]] += 1\n",
    "            child = classes[i] + \" and \" + feature\n",
    "            isPresent = child in features_dict\n",
    "            if(isPresent == False):\n",
    "                features_dict[child] = 1  \n",
    "            else :\n",
    "                features_dict[child] += 1\n",
    "        i += 1\n",
    "    return classes_dict,features_dict"
   ]
  },
  {
   "cell_type": "code",
   "execution_count": 5,
   "metadata": {},
   "outputs": [],
   "source": [
    "def feature_probability_laplace(features_dict,classes_dict,count):\n",
    "    print(features_dict)\n",
    "    print(classes_dict)\n",
    "    for feature in features_dict.keys() :\n",
    "        print(\"\\n\\tFor Feature\", feature, \"with total samples =\", features_dict[feature])\n",
    "        tot = features_dict[feature]\n",
    "        for classes in classes_dict.keys() :\n",
    "            if classes.startswith(feature) :\n",
    "                val = classes_dict[classes]\n",
    "                print(\"\\t\\tFor class\",classes,\":\", val+1,\"/\",tot+count, \"=\" ,probability(val+1,tot+count))\n",
    "#        entropy_feature = entropy(prob_list)\n",
    "#        print(\"\\tEntropy (sum((p*log2p) of all classes) for Feature\", feature, \"with probability\", features_dict[feature], \"/\", total, \"is :\", entropy_feature)"
   ]
  },
  {
   "cell_type": "code",
   "execution_count": 6,
   "metadata": {},
   "outputs": [
    {
     "name": "stdout",
     "output_type": "stream",
     "text": [
      "  Rain Sunny Windy PlayFoot\n",
      "0    Y     N     N        N\n",
      "1    Y     N     Y        Y\n",
      "2    N     Y     N        Y\n",
      "3    Y     Y     Y        Y\n",
      "4    N     N     N        N\n",
      "5    N     Y     Y        N\n",
      "['Rain', 'Sunny', 'Windy', 'PlayFoot']\n",
      "0    N\n",
      "1    Y\n",
      "2    Y\n",
      "3    Y\n",
      "4    N\n",
      "5    N\n",
      "Name: PlayFoot, dtype: object\n",
      "['N' 'Y']\n"
     ]
    }
   ],
   "source": [
    "dataset = pd.read_csv(\"bayes.csv\", header = 0)\n",
    "print(dataset)\n",
    "Attributes = list(dataset.columns)\n",
    "print(Attributes)\n",
    "classes = dataset[Attributes[-1]]\n",
    "print(classes)\n",
    "classes_name = classes.unique()\n",
    "print(classes_name)\n"
   ]
  },
  {
   "cell_type": "code",
   "execution_count": 7,
   "metadata": {},
   "outputs": [
    {
     "name": "stdout",
     "output_type": "stream",
     "text": [
      "{'N': 3, 'Y': 3}\n",
      "Total number of data :  6\n",
      "\\Probability of N is:  3 / 6 = 0.5\n",
      "\\Probability of Y is:  3 / 6 = 0.5\n",
      "\u001b[1m\n",
      "Overall Probability is :  1.0 \u001b[0m\n"
     ]
    }
   ],
   "source": [
    "Probability_dict = overall_probability(classes)"
   ]
  },
  {
   "cell_type": "code",
   "execution_count": 8,
   "metadata": {},
   "outputs": [
    {
     "name": "stdout",
     "output_type": "stream",
     "text": [
      "\n",
      "For attribute Rain the Probabilities are -->\n",
      "2\n",
      "{'N': 3, 'Y': 3}\n",
      "{'N and Y': 1, 'Y and Y': 2, 'Y and N': 1, 'N and N': 2}\n",
      "\n",
      "\tFor Feature N with total samples = 3\n",
      "\t\tFor class N and Y : 2 / 5 = 0.4\n",
      "\t\tFor class N and N : 3 / 5 = 0.6\n",
      "\n",
      "\tFor Feature Y with total samples = 3\n",
      "\t\tFor class Y and Y : 3 / 5 = 0.6\n",
      "\t\tFor class Y and N : 2 / 5 = 0.4\n",
      "\n",
      "************************\n",
      "\n",
      "For attribute Sunny the Probabilities are -->\n",
      "2\n",
      "{'N': 3, 'Y': 3}\n",
      "{'N and N': 2, 'Y and N': 1, 'Y and Y': 2, 'N and Y': 1}\n",
      "\n",
      "\tFor Feature N with total samples = 3\n",
      "\t\tFor class N and N : 3 / 5 = 0.6\n",
      "\t\tFor class N and Y : 2 / 5 = 0.4\n",
      "\n",
      "\tFor Feature Y with total samples = 3\n",
      "\t\tFor class Y and N : 2 / 5 = 0.4\n",
      "\t\tFor class Y and Y : 3 / 5 = 0.6\n",
      "\n",
      "************************\n",
      "\n",
      "For attribute Windy the Probabilities are -->\n",
      "2\n",
      "{'N': 3, 'Y': 3}\n",
      "{'N and N': 2, 'Y and Y': 2, 'Y and N': 1, 'N and Y': 1}\n",
      "\n",
      "\tFor Feature N with total samples = 3\n",
      "\t\tFor class N and N : 3 / 5 = 0.6\n",
      "\t\tFor class N and Y : 2 / 5 = 0.4\n",
      "\n",
      "\tFor Feature Y with total samples = 3\n",
      "\t\tFor class Y and Y : 3 / 5 = 0.6\n",
      "\t\tFor class Y and N : 2 / 5 = 0.4\n",
      "\n",
      "************************\n"
     ]
    }
   ],
   "source": [
    "for every_attribute in Attributes[:-1]:\n",
    "    print(\"\\nFor attribute\",every_attribute, \"the Probabilities are -->\")\n",
    "    input_value = dataset[every_attribute]\n",
    "    features_dict,classes_dict = node_classification(input_value)\n",
    "    count = len(dataset[every_attribute].unique())\n",
    "    print(count)\n",
    "    feature_probability_laplace(features_dict,classes_dict,count)\n",
    "    \n",
    "    print(\"\\n************************\")\n"
   ]
  },
  {
   "cell_type": "code",
   "execution_count": null,
   "metadata": {},
   "outputs": [],
   "source": []
  },
  {
   "cell_type": "code",
   "execution_count": null,
   "metadata": {},
   "outputs": [],
   "source": []
  },
  {
   "cell_type": "code",
   "execution_count": null,
   "metadata": {},
   "outputs": [],
   "source": []
  },
  {
   "cell_type": "code",
   "execution_count": null,
   "metadata": {},
   "outputs": [],
   "source": []
  }
 ],
 "metadata": {
  "kernelspec": {
   "display_name": "Python 3 (ipykernel)",
   "language": "python",
   "name": "python3"
  },
  "language_info": {
   "codemirror_mode": {
    "name": "ipython",
    "version": 3
   },
   "file_extension": ".py",
   "mimetype": "text/x-python",
   "name": "python",
   "nbconvert_exporter": "python",
   "pygments_lexer": "ipython3",
   "version": "3.9.7"
  }
 },
 "nbformat": 4,
 "nbformat_minor": 4
}
