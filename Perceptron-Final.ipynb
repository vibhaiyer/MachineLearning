{
 "cells": [
  {
   "cell_type": "markdown",
   "metadata": {},
   "source": [
    "### Input the following things : "
   ]
  },
  {
   "cell_type": "code",
   "execution_count": 1,
   "metadata": {},
   "outputs": [],
   "source": [
    "#x_0 = [w0,w1,w2]\n",
    "w_0 = [8,-4,-4]\n",
    "l_rate = 0.1\n",
    "#Point above the hyperplane - check notes\n",
    "class_1_pt = [(-2,5),(-3,6)]\n",
    "#Point below the hyperplane\n",
    "class_2_pt = [(5,-4)]"
   ]
  },
  {
   "cell_type": "code",
   "execution_count": 2,
   "metadata": {},
   "outputs": [],
   "source": [
    "def plot_graph(weight):\n",
    "    import matplotlib.pyplot as plt\n",
    "    x_list = []\n",
    "    y_list = []\n",
    "    for i in range(-7,7) :\n",
    "        x_list.append(i)\n",
    "        j = (-weight[0] - (weight[1]*i)) / weight[2]\n",
    "        y_list.append(j)\n",
    "    print(\"Points on the line are :\")\n",
    "    print(\"\\tFor x = 0, y is \", ((-weight[0])/ weight[2]))\n",
    "    print(\"\\tFor y = 0, x is \", ((-weight[0])/ weight[1]))\n",
    "    print(x_list)\n",
    "    print(y_list)\n",
    "    plt.plot(x_list,y_list)\n",
    "    plt.grid()\n",
    "    plt.xlim(-7, 7)\n",
    "    plt.ylim(-7, 7)\n",
    "    \n",
    "\n",
    "    plt.arrow(x_list[5],y_list[5],2,2, head_width=0.5, head_length=0.7, fc='lightblue', ec='black')\n",
    "\n",
    "    for every_point in class_1_pt:\n",
    "        plt.scatter(every_point[0],every_point[1],c='#d62728')\n",
    "    for every_point in class_2_pt:\n",
    "        plt.scatter(every_point[0],every_point[1],c='#1f77b4')\n",
    "\n",
    "        \n",
    "def predict(row, weights):\n",
    "    activation = weights[0]\n",
    "    for i in range(len(row)):\n",
    "        activation += weights[i + 1] * row[i]\n",
    "    return 1.0 if activation >= 0.0 else -1.0\n",
    "\n",
    "def train_weights(weights, points, l_rate):\n",
    "    w_1 = [0,0,0]\n",
    "    for every_point in points:\n",
    "        prediction = predict(every_point, weights)\n",
    "        print(\"For point\", every_point, \"sign is\", prediction)\n",
    "        w_1[0] = w_1[0] + (prediction*l_rate)\n",
    "        w_1[1] = w_1[1] + (prediction*l_rate*every_point[0])\n",
    "        w_1[2] = w_1[2] + (prediction*l_rate*every_point[1])\n",
    "    return w_1\n",
    "\n"
   ]
  },
  {
   "cell_type": "code",
   "execution_count": 3,
   "metadata": {},
   "outputs": [
    {
     "name": "stdout",
     "output_type": "stream",
     "text": [
      "Points on the line are :\n",
      "\tFor x = 0, y is  2.0\n",
      "\tFor y = 0, x is  2.0\n",
      "[-7, -6, -5, -4, -3, -2, -1, 0, 1, 2, 3, 4, 5, 6]\n",
      "[9.0, 8.0, 7.0, 6.0, 5.0, 4.0, 3.0, 2.0, 1.0, -0.0, -1.0, -2.0, -3.0, -4.0]\n"
     ]
    },
    {
     "data": {
      "image/png": "[encoded data removed]",
      "text/plain": [
       "<Figure size 432x288 with 1 Axes>"
      ]
     },
     "metadata": {
      "needs_background": "light"
     },
     "output_type": "display_data"
    }
   ],
   "source": [
    "plot_graph(w_0)"
   ]
  },
  {
   "cell_type": "code",
   "execution_count": 4,
   "metadata": {},
   "outputs": [
    {
     "name": "stdout",
     "output_type": "stream",
     "text": [
      "For point (-2, 5) sign is -1.0\n",
      "For point (-3, 6) sign is -1.0\n",
      "For point (5, -4) sign is 1.0\n",
      "NEW 'w' is : [8.1, -5.0, -2.5]\n"
     ]
    }
   ],
   "source": [
    "weights_1 = train_weights(w_0, class_1_pt, l_rate)\n",
    "weights_2 = train_weights(w_0, class_2_pt, l_rate)\n",
    "w_new = [w_0[0]-weights_1[0]-weights_2[0], w_0[1]-weights_1[1]-weights_2[1], w_0[2]-weights_1[2]-weights_2[2]]\n",
    "print(\"NEW 'w' is :\", w_new)\n"
   ]
  },
  {
   "cell_type": "code",
   "execution_count": 5,
   "metadata": {},
   "outputs": [
    {
     "name": "stdout",
     "output_type": "stream",
     "text": [
      "Points on the line are :\n",
      "\tFor x = 0, y is  3.2399999999999998\n",
      "\tFor y = 0, x is  1.6199999999999999\n",
      "[-7, -6, -5, -4, -3, -2, -1, 0, 1, 2, 3, 4, 5, 6]\n",
      "[17.240000000000002, 15.24, 13.24, 11.24, 9.24, 7.24, 5.24, 3.2399999999999998, 1.2399999999999998, -0.7600000000000001, -2.7600000000000002, -4.76, -6.76, -8.76]\n"
     ]
    },
    {
     "data": {
      "image/png": "[encoded data removed]",
      "text/plain": [
       "<Figure size 432x288 with 1 Axes>"
      ]
     },
     "metadata": {
      "needs_background": "light"
     },
     "output_type": "display_data"
    }
   ],
   "source": [
    "plot_graph(w_new)"
   ]
  },
  {
   "cell_type": "code",
   "execution_count": null,
   "metadata": {},
   "outputs": [],
   "source": []
  },
  {
   "cell_type": "code",
   "execution_count": null,
   "metadata": {},
   "outputs": [],
   "source": []
  },
  {
   "cell_type": "code",
   "execution_count": null,
   "metadata": {},
   "outputs": [],
   "source": []
  }
 ],
 "metadata": {
  "kernelspec": {
   "display_name": "Python 3 (ipykernel)",
   "language": "python",
   "name": "python3"
  },
  "language_info": {
   "codemirror_mode": {
    "name": "ipython",
    "version": 3
   },
   "file_extension": ".py",
   "mimetype": "text/x-python",
   "name": "python",
   "nbconvert_exporter": "python",
   "pygments_lexer": "ipython3",
   "version": "3.9.7"
  }
 },
 "nbformat": 4,
 "nbformat_minor": 4
}
