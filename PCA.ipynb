{
 "cells": [
  {
   "cell_type": "markdown",
   "metadata": {
    "id": "pLSvJ_8SK4-Y"
   },
   "source": [
    "# Assignment 03"
   ]
  },
  {
   "cell_type": "markdown",
   "metadata": {
    "id": "tl5Aru8auxk8"
   },
   "source": [
    "Submitted by : Group - Kay\n",
    "Members:\n",
    "1. Charu Gupta (220202389)\n",
    "2. Priya Yadav (220200937)\n",
    "3. Venkatesh Hariharapura Shivashankar (220200713)\n",
    "4. Vibha Iyer (220200717)\n"
   ]
  },
  {
   "cell_type": "code",
   "execution_count": 1,
   "metadata": {
    "id": "tuga2fM9K4-Z"
   },
   "outputs": [],
   "source": [
    "import numpy as np\n",
    "import matplotlib.pyplot as plt"
   ]
  },
  {
   "cell_type": "code",
   "execution_count": 2,
   "metadata": {
    "id": "DG2Rw-s6K4-Z"
   },
   "outputs": [],
   "source": [
    "# Feature values\n",
    "x1 = np.array([1.1,2.2,2.5,4,5.2,6.1]) # first feature\n",
    "x2 = np.array([1.4,2.1,2.9,5,5.1,6.7]) # second feature\n",
    "assert len(x1) == len(x2)"
   ]
  },
  {
   "cell_type": "code",
   "execution_count": 3,
   "metadata": {
    "colab": {
     "base_uri": "https://localhost:8080/"
    },
    "id": "AA9ZkAmZK4-Z",
    "outputId": "e7548175-e83a-4846-f499-899f576d8138"
   },
   "outputs": [
    {
     "name": "stdout",
     "output_type": "stream",
     "text": [
      "[[1.1 1.4]\n",
      " [2.2 2.1]\n",
      " [2.5 2.9]\n",
      " [4.  5. ]\n",
      " [5.2 5.1]\n",
      " [6.1 6.7]]\n"
     ]
    }
   ],
   "source": [
    "# Combine features to data matrix\n",
    "mat = np.array([x1, x2]).transpose()\n",
    "print(mat)"
   ]
  },
  {
   "cell_type": "code",
   "execution_count": 4,
   "metadata": {
    "colab": {
     "base_uri": "https://localhost:8080/",
     "height": 265
    },
    "id": "Gj-_6UOmK4-Z",
    "outputId": "18415e8e-ea3d-4f1d-b494-1c205de5bc60"
   },
   "outputs": [
    {
     "data": {
      "image/png": "[encoded data removed]",
      "text/plain": [
       "<Figure size 432x288 with 1 Axes>"
      ]
     },
     "metadata": {
      "needs_background": "light"
     },
     "output_type": "display_data"
    }
   ],
   "source": [
    "# Plot the data\n",
    "plt.scatter(mat[:,0], mat[:,1])\n",
    "plt.show()"
   ]
  },
  {
   "cell_type": "code",
   "execution_count": 5,
   "metadata": {
    "colab": {
     "base_uri": "https://localhost:8080/"
    },
    "id": "ierEJF-WK4-Z",
    "outputId": "10eab763-ee46-4b10-f052-3e05551f2346"
   },
   "outputs": [
    {
     "name": "stdout",
     "output_type": "stream",
     "text": [
      "[[-1.38195552 -1.31932673]\n",
      " [-0.75292749 -0.9449232 ]\n",
      " [-0.58137439 -0.51703345]\n",
      " [ 0.2763911   0.60617714]\n",
      " [ 0.9626035   0.65966336]\n",
      " [ 1.4772628   1.51544286]]\n"
     ]
    }
   ],
   "source": [
    "# Standardize the features\n",
    "mean1 = np.mean(mat[:,0])\n",
    "std1 = np.std(mat[:,0])\n",
    "mean2 = np.mean(mat[:,1])\n",
    "std2 = np.std(mat[:,1])\n",
    "z_mat = np.zeros(mat.shape)\n",
    "z_mat[:,0] = (mat[:,0] - mean1) / std1\n",
    "z_mat[:,1] = (mat[:,1] - mean2) / std2\n",
    "print(z_mat)"
   ]
  },
  {
   "cell_type": "code",
   "execution_count": 6,
   "metadata": {
    "colab": {
     "base_uri": "https://localhost:8080/",
     "height": 265
    },
    "id": "7sJ_Nm2FK4-a",
    "outputId": "08cbe694-8881-49a1-d7d0-44be303ff82b"
   },
   "outputs": [
    {
     "data": {
      "image/png": "[encoded data removed]",
      "text/plain": [
       "<Figure size 432x288 with 1 Axes>"
      ]
     },
     "metadata": {
      "needs_background": "light"
     },
     "output_type": "display_data"
    }
   ],
   "source": [
    "# Plot the standardized data\n",
    "plt.scatter(z_mat[:,0], z_mat[:,1])\n",
    "plt.show()"
   ]
  },
  {
   "cell_type": "code",
   "execution_count": 7,
   "metadata": {
    "colab": {
     "base_uri": "https://localhost:8080/"
    },
    "id": "LzPo-r1BK4-a",
    "outputId": "0918a63c-46a6-45d6-dbc8-3f6ca771eb17"
   },
   "outputs": [
    {
     "name": "stdout",
     "output_type": "stream",
     "text": [
      "[[1.2        1.17530862]\n",
      " [1.17530862 1.2       ]]\n"
     ]
    }
   ],
   "source": [
    "# Compute the covariance matrix\n",
    "covariance_mat = np.cov(z_mat.transpose())\n",
    "print(covariance_mat)"
   ]
  },
  {
   "cell_type": "code",
   "execution_count": 8,
   "metadata": {
    "colab": {
     "base_uri": "https://localhost:8080/"
    },
    "id": "dBbr6mhUK4-a",
    "outputId": "59506ca6-ec60-460a-e312-3b27f8d5b969"
   },
   "outputs": [
    {
     "name": "stdout",
     "output_type": "stream",
     "text": [
      "Eigenvectors: \n",
      " [[ 0.70710678 -0.70710678]\n",
      " [ 0.70710678  0.70710678]] \n",
      "\n",
      "Eigenvalues: \n",
      " [2.37530862 0.02469138] \n",
      "\n"
     ]
    }
   ],
   "source": [
    " # Compute the eigendecomposition\n",
    "eigen_values, eigen_vectors = np.linalg.eig(covariance_mat)\n",
    "print(\"Eigenvectors: \\n\", eigen_vectors,\"\\n\")\n",
    "print(\"Eigenvalues: \\n\", eigen_values, \"\\n\")"
   ]
  },
  {
   "cell_type": "code",
   "execution_count": 9,
   "metadata": {
    "colab": {
     "base_uri": "https://localhost:8080/",
     "height": 265
    },
    "id": "f0GC86OlK4-a",
    "outputId": "88209145-46a0-4925-f090-7d5fb9987b86"
   },
   "outputs": [
    {
     "data": {
      "image/png": "[encoded data removed]",
      "text/plain": [
       "<Figure size 432x288 with 1 Axes>"
      ]
     },
     "metadata": {
      "needs_background": "light"
     },
     "output_type": "display_data"
    }
   ],
   "source": [
    "# Plot of standarized data and eigenvectors\n",
    "plt.scatter(z_mat[:,0], z_mat[:,1])\n",
    "plt.arrow(0, 0, eigen_vectors[0,0], eigen_vectors[1,0], color='r',\n",
    "          head_width=0.2, head_length=0.2)\n",
    "plt.arrow(0, 0, eigen_vectors[0,1], eigen_vectors[1,1], color='g',\n",
    "          head_width=0.2, head_length=0.2)\n",
    "plt.show()"
   ]
  },
  {
   "cell_type": "markdown",
   "metadata": {
    "id": "HijLA2pWK4-a"
   },
   "source": [
    "## Task 1.1: Application of PCA (30 points)"
   ]
  },
  {
   "cell_type": "code",
   "execution_count": 10,
   "metadata": {
    "colab": {
     "base_uri": "https://localhost:8080/",
     "height": 282
    },
    "id": "72d45ke8K4-a",
    "outputId": "358c4b94-480f-454f-98a4-d70f65afd32d"
   },
   "outputs": [
    {
     "name": "stdout",
     "output_type": "stream",
     "text": [
      "[-1.910095   -1.20056174 -0.77669163  0.62406999  1.1471159   2.11616247]\n"
     ]
    },
    {
     "data": {
      "text/plain": [
       "<matplotlib.collections.PathCollection at 0x1fc71bb94f0>"
      ]
     },
     "execution_count": 10,
     "metadata": {},
     "output_type": "execute_result"
    },
    {
     "data": {
      "image/png": "[encoded data removed]",
      "text/plain": [
       "<Figure size 432x288 with 1 Axes>"
      ]
     },
     "metadata": {
      "needs_background": "light"
     },
     "output_type": "display_data"
    }
   ],
   "source": [
    "# TODO. See assignment sheet for instructions.\n",
    "\n",
    "#Transpose the eigen vectors\n",
    "eigen_vectors1 = eigen_vectors.transpose()\n",
    "\n",
    "#Sorting eigen values and corresponding eigen vectors in descending order\n",
    "idxs = np.argsort(eigen_values)[::-1]\n",
    "eigen_values = eigen_values[idxs]\n",
    "eigen_vectors1 = eigen_vectors1[idxs]\n",
    "\n",
    "#calculating the projected matrix for highest 1st principle component\n",
    "projected_Z = z_mat.dot(eigen_vectors1[0])\n",
    "print(projected_Z)\n",
    "#Plost of transformed data\n",
    "y_axis = np.zeros(projected_Z.shape)\n",
    "plt.scatter(projected_Z,y_axis)\n"
   ]
  },
  {
   "cell_type": "markdown",
   "metadata": {
    "id": "RDinFVXGK4-a"
   },
   "source": [
    "## Task 1.2: Reconstruction of data (30 points)"
   ]
  },
  {
   "cell_type": "code",
   "execution_count": 11,
   "metadata": {
    "colab": {
     "base_uri": "https://localhost:8080/"
    },
    "id": "Acj4uoujK4-a",
    "outputId": "dea6d274-8f38-4767-835f-9b1c40cc5d0b"
   },
   "outputs": [
    {
     "name": "stdout",
     "output_type": "stream",
     "text": [
      "[[-1.35064113 -1.35064113]\n",
      " [-0.84892534 -0.84892534]\n",
      " [-0.54920392 -0.54920392]\n",
      " [ 0.44128412  0.44128412]\n",
      " [ 0.81113343  0.81113343]\n",
      " [ 1.49635283  1.49635283]]\n",
      "Reconstructed matrix:\n",
      "[[1.15476042 1.34145333]\n",
      " [2.03212571 2.27948147]\n",
      " [2.55625746 2.83985278]\n",
      " [4.28835332 4.69170933]\n",
      " [4.93511979 5.38319458]\n",
      " [6.1333833  6.66430851]]\n"
     ]
    }
   ],
   "source": [
    "# TODO. See assignment sheet for instructions.\n",
    "eigen_vectors2=eigen_vectors.transpose()\n",
    "new_mat=np.asmatrix(projected_Z).transpose().dot(np.asmatrix([eigen_vectors2[0]]))\n",
    "recon_mat = np.array(new_mat)\n",
    "print(recon_mat)\n",
    "recons_mat = np.zeros(recon_mat.shape)\n",
    "#To add mean and multiply with standard deviation to get reconstructed data\n",
    "recons_mat[:,0] = (recon_mat[:,0]*std1) + mean1\n",
    "recons_mat[:,1] = (recon_mat[:,1]*std2) + mean2 \n",
    "print(\"Reconstructed matrix:\")\n",
    "print(recons_mat)    "
   ]
  },
  {
   "cell_type": "markdown",
   "metadata": {
    "id": "9IHH2VY3K4-a"
   },
   "source": [
    "## Task 1.3: Plotting of data (20 points)"
   ]
  },
  {
   "cell_type": "code",
   "execution_count": 12,
   "metadata": {
    "colab": {
     "base_uri": "https://localhost:8080/",
     "height": 265
    },
    "id": "27ubQO18K4-b",
    "outputId": "5c44532a-14b9-4f82-a220-9dc03a4340f1"
   },
   "outputs": [
    {
     "data": {
      "image/png": "[encoded data removed]",
      "text/plain": [
       "<Figure size 432x288 with 1 Axes>"
      ]
     },
     "metadata": {
      "needs_background": "light"
     },
     "output_type": "display_data"
    }
   ],
   "source": [
    "# TODO. See assignment sheet for instructions.\n",
    "plt.scatter(recons_mat[:,0],recons_mat[:,1],marker=',',label='Reconstructed Data')\n",
    "plt.scatter(mat[:,0], mat[:,1],label='Original Data')\n",
    "plt.legend()\n",
    "plt.show()"
   ]
  },
  {
   "cell_type": "markdown",
   "metadata": {
    "id": "dceEuVfiK4-b"
   },
   "source": [
    "## Task 1.4: Error of PCA (20 points)"
   ]
  },
  {
   "cell_type": "code",
   "execution_count": 14,
   "metadata": {
    "colab": {
     "base_uri": "https://localhost:8080/"
    },
    "id": "tJjHJHzfK4-b",
    "outputId": "20e0f73a-097b-43bc-cd15-2cbcc5a91f3a"
   },
   "outputs": [
    {
     "name": "stdout",
     "output_type": "stream",
     "text": [
      "Error induced by Euclidean distance is  0.6360378731166952\n",
      "Error induced by Manhatten distance is  1.7908611002857535\n",
      "Correct error: 1.2670368335684183\n"
     ]
    }
   ],
   "source": [
    "# TODO. See assignment sheet for instructions.\n",
    "#Finding the sum of error induced by PCA by Euclidean Distance and Manhatten Distance\n",
    "distanceForEuclidean=0\n",
    "sumForEuclidean=0\n",
    "sumForManha=0\n",
    "for j in range(0,len(mat)):\n",
    "    sumForEuclidean=sumForEuclidean+(((recons_mat[j][0]-mat[j][0])*(recons_mat[j][0]-mat[j][0]))+((recons_mat[j][1]-mat[j][1])*(recons_mat[j][1]-mat[j][1])))\n",
    "    sumForManha=sumForManha+abs(recons_mat[j][0]-mat[j][0]) + abs((recons_mat[j][1]-mat[j][1]))\n",
    "distanceForEuclidean=np.sqrt(sumForEuclidean)\n",
    "print(\"Error induced by Euclidean distance is \",distanceForEuclidean)\n",
    "print(\"Error induced by Manhatten distance is \",sumForManha)\n",
    "\n",
    "\n",
    "#------------------error---------------------------\n",
    "err=0\n",
    "for i in range(mat.shape[0]):\n",
    "    a=mat[i,:]\n",
    "    b=recons_mat[i,:]\n",
    "    err+=np.linalg.norm(a-b)\n",
    "print(\"Correct error:\",err)"
   ]
  },
  {
   "cell_type": "code",
   "execution_count": null,
   "metadata": {
    "id": "bQUSY2hR8Fwb"
   },
   "outputs": [],
   "source": []
  }
 ],
 "metadata": {
  "colab": {
   "collapsed_sections": [],
   "name": "MLDM_Assignment03.ipynb",
   "provenance": []
  },
  "kernelspec": {
   "display_name": "Python 3",
   "language": "python",
   "name": "python3"
  },
  "language_info": {
   "codemirror_mode": {
    "name": "ipython",
    "version": 3
   },
   "file_extension": ".py",
   "mimetype": "text/x-python",
   "name": "python",
   "nbconvert_exporter": "python",
   "pygments_lexer": "ipython3",
   "version": "3.8.5"
  }
 },
 "nbformat": 4,
 "nbformat_minor": 1
}
