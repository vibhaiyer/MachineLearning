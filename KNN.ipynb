{
 "cells": [
  {
   "cell_type": "code",
   "execution_count": 2,
   "metadata": {},
   "outputs": [
    {
     "name": "stdout",
     "output_type": "stream",
     "text": [
      "x1_normalised: [0.75, 0.0, 0.5, 0.5, 0.25, 1.0, 0.0, 0.25, 0.5, 0.75]\n",
      "y1_normalised: [0.6666666666666666, 0.4, 0.65, 0.48333333333333334, 0.3, 1.0, 0.0, 0.3333333333333333, 0.75, 1.0]\n",
      "x_normalised: 0.5\n",
      "y_normalised: 0.21666666666666667\n",
      "Euclidean: [0.51478150704935, 0.5325515102890153, 0.43333333333333335, 0.26666666666666666, 0.26352313834736496, 0.9293067906300433, 0.5449260908090605, 0.2758824226207808, 0.5333333333333333, 0.822259758902934]\n"
     ]
    }
   ],
   "source": [
    "import numpy as np\n",
    "#-----min max normalisation-------------------------\n",
    "def min_max_norm(each_feature):\n",
    "    minimum=min(each_feature)\n",
    "    maximum=max(each_feature)\n",
    "\n",
    "    new_features=[]\n",
    "    for value in each_feature:\n",
    "        newValue=(value-minimum)/(maximum-minimum)\n",
    "        new_features.append(newValue)\n",
    "    return new_features\n",
    "\n",
    "#----KNN------------------\n",
    "#--------INPUT-------------\n",
    "x = 3\n",
    "y = 53\n",
    "x1 = [3.5,2,3,3,2.5,4,2,2.5,3,3.5]\n",
    "y1 = [80,64,79,69,58,100,40,60,85,100]\n",
    "\n",
    "#\"\"\"\n",
    "x1_normalised = []\n",
    "y1_normalised = []\n",
    "x_normalised = []\n",
    "y_normalised = []\n",
    "x1_normalised = min_max_norm(x1)\n",
    "print(\"x1_normalised:\",x1_normalised)\n",
    "y1_normalised = min_max_norm(y1)\n",
    "print(\"y1_normalised:\",y1_normalised)\n",
    "x_normalised = (x-min(x1))/(max(x1)-min(x1))\n",
    "print(\"x_normalised:\",x_normalised)\n",
    "y_normalised = (y-min(y1))/(max(y1)-min(y1))\n",
    "print(\"y_normalised:\",y_normalised)\n",
    "x1 = x1_normalised\n",
    "y1 = y1_normalised\n",
    "x = x_normalised\n",
    "y = y_normalised\n",
    "#\"\"\"\n",
    "\n",
    "e = 0.0\n",
    "dist_list = []\n",
    "for i in range(len(x1)):\n",
    "    e = (pow((float(x1[i])-float(x)),2))+(pow((float(y1[i])-float(y)),2))  #euclidean distance\n",
    "    dist_list.append(np.sqrt(e))\n",
    "print(\"Euclidean:\",dist_list)\n"
   ]
  },
  {
   "cell_type": "code",
   "execution_count": null,
   "metadata": {},
   "outputs": [],
   "source": []
  }
 ],
 "metadata": {
  "kernelspec": {
   "display_name": "Python 3",
   "language": "python",
   "name": "python3"
  },
  "language_info": {
   "codemirror_mode": {
    "name": "ipython",
    "version": 3
   },
   "file_extension": ".py",
   "mimetype": "text/x-python",
   "name": "python",
   "nbconvert_exporter": "python",
   "pygments_lexer": "ipython3",
   "version": "3.8.5"
  }
 },
 "nbformat": 4,
 "nbformat_minor": 4
}
