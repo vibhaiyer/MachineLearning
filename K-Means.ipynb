{
 "cells": [
  {
   "cell_type": "code",
   "execution_count": 24,
   "metadata": {},
   "outputs": [],
   "source": [
    "def update_centroid(clusters,centroids,idx) :\n",
    "    print(\"updating centroid\")\n",
    "    print(centroids)\n",
    "    print(centroids[idx][0])\n",
    "    print(centroids[idx][1])\n",
    "    cluster = clusters[idx]\n",
    "    print(cluster)\n",
    "    l = len(cluster)\n",
    "    print(l)\n",
    "    p = cluster[-1]\n",
    "    print(p)\n",
    "    x = (1/l)*p[0]+((l-1)/l)*centroids[idx][0]\n",
    "    y = (1/l)*p[1]+((l-1)/l)*centroids[idx][1]\n",
    "    centroids[idx]=[x,y]"
   ]
  },
  {
   "cell_type": "code",
   "execution_count": 8,
   "metadata": {},
   "outputs": [],
   "source": [
    "def distance(p1,p2):\n",
    "    dist = (p2[0]-p1[0])**2+(p2[1]-p1[1])**2\n",
    "    return dist"
   ]
  },
  {
   "cell_type": "code",
   "execution_count": 25,
   "metadata": {},
   "outputs": [
    {
     "name": "stdout",
     "output_type": "stream",
     "text": [
      "For point  [2, 1]\n",
      "[[[2, 1]]]\n",
      "[[2, 1]]\n",
      "For point  [6, 3]\n",
      "centroid is  [2, 1]\n",
      "[[[2, 1]], [[6, 3]]]\n",
      "[[2, 1], [6, 3]]\n",
      "For point  [2, 2]\n",
      "centroid is  [2, 1]\n",
      "distance is less\n",
      "updating centroid\n",
      "[[2, 1], [6, 3]]\n",
      "2\n",
      "1\n",
      "[[2, 1], [2, 2]]\n",
      "2\n",
      "[2, 2]\n",
      "centroid is  [6, 3]\n",
      "[[[2, 1], [2, 2]], [[6, 3]]]\n",
      "[[2.0, 1.5], [6, 3]]\n",
      "[[2.0, 1.5], [6, 3]]\n",
      "[[[2, 1], [2, 2]], [[6, 3]]]\n"
     ]
    }
   ],
   "source": [
    "def do_cluster(data,threshold) :\n",
    "    clusters = []\n",
    "    centroids = []\n",
    "    for point in data:\n",
    "        print(\"For point \",point)\n",
    "        foo = False\n",
    "        idx = 0\n",
    "        for c in centroids:\n",
    "            print(\"centroid is \", c)\n",
    "            if not foo:\n",
    "                if distance(point,c) <= threshold :\n",
    "                    print(\"distance is less\")\n",
    "                    clusters[idx].append(point)\n",
    "                    update_centroid(clusters,centroids,idx)\n",
    "                    foo = True\n",
    "                else :\n",
    "                    idx = idx+1\n",
    "        if not foo:\n",
    "            clusters.append([point])\n",
    "            centroids.append(point)\n",
    "        print(clusters)\n",
    "        print(centroids)\n",
    "    print(centroids)\n",
    "    return clusters\n",
    "\n",
    "data = [[2,1],[6,3],[2,2]]\n",
    "threshold = 2.25\n",
    "clusters = do_cluster(data,threshold)\n",
    "print(clusters)"
   ]
  },
  {
   "cell_type": "code",
   "execution_count": null,
   "metadata": {},
   "outputs": [],
   "source": []
  }
 ],
 "metadata": {
  "kernelspec": {
   "display_name": "Python 3 (ipykernel)",
   "language": "python",
   "name": "python3"
  },
  "language_info": {
   "codemirror_mode": {
    "name": "ipython",
    "version": 3
   },
   "file_extension": ".py",
   "mimetype": "text/x-python",
   "name": "python",
   "nbconvert_exporter": "python",
   "pygments_lexer": "ipython3",
   "version": "3.9.7"
  }
 },
 "nbformat": 4,
 "nbformat_minor": 4
}
