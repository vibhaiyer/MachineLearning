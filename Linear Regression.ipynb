{
 "cells": [
  {
   "cell_type": "code",
   "execution_count": 1,
   "metadata": {},
   "outputs": [
    {
     "name": "stdout",
     "output_type": "stream",
     "text": [
      "slope b1 is ,M: 0.059317945453633544\n",
      "intercept b0 is ,C 90.26790966274359\n",
      "Y for g( 1591 ): 184.64276087947457\n",
      "new Y for g( 440 ): 116.36780566234235\n",
      "new Y for g( 448 ): 116.84234922597142\n",
      "new Y for g( 6205 ): 458.33576120253974\n",
      "new Y for g( 4850 ): 377.9599451128663\n",
      "new Y for g( 1420 ): 174.49939220690322\n",
      "new Y for g( 16500 ): 1069.014009647697\n",
      "new Y for g( 1776 ): 195.61658078839676\n",
      "new Y for g( 6989 ): 504.84103043818845\n",
      "new Y for g( 2040 ): 211.27651838815603\n",
      "new Y for g( 9356 ): 645.246607326939\n",
      "MSE for New Y: 1808.2754239849\n",
      "LSE for New Y: 18082.754239849\n",
      "MSE for few values: 743.4229056467419\n"
     ]
    },
    {
     "data": {
      "image/png": "[encoded data removed]",
      "text/plain": [
       "<Figure size 432x288 with 1 Axes>"
      ]
     },
     "metadata": {
      "needs_background": "light"
     },
     "output_type": "display_data"
    }
   ],
   "source": [
    "import numpy as np \n",
    "import matplotlib.pyplot as plt \n",
    "  \n",
    "from sklearn.linear_model import LinearRegression \n",
    "from sklearn.metrics import mean_squared_error, r2_score \n",
    "import statsmodels.api as sm \n",
    "\n",
    "x = np.array([440,448,6205,4850,1420,16500,1776,6989,2040,9356])  \n",
    "y = np.array([123,137,409,459,89,1067,230,496,208,652]) \n",
    "n = np.size(x) \n",
    "xnew=1591                   #--------------------Input your x here ----------------------\n",
    "    \n",
    "x_mean = np.mean(x) \n",
    "y_mean = np.mean(y) \n",
    "x_mean,y_mean \n",
    "  \n",
    "Sxy = np.sum(x*y)- n*x_mean*y_mean \n",
    "Sxx = np.sum(x*x)-n*x_mean*x_mean \n",
    "  \n",
    "b1 = Sxy/Sxx \n",
    "b0 = y_mean-b1*x_mean \n",
    "print('slope b1 is ,M:', b1) \n",
    "print('intercept b0 is ,C', b0) \n",
    "  \n",
    "plt.scatter(x,y) \n",
    "plt.xlabel('Independent variable X') \n",
    "plt.ylabel('Dependent variable y')\n",
    "\n",
    "ynew=b0+(b1*xnew)\n",
    "print(\"Y for g(\",xnew,\"):\",ynew)\n",
    "ynew11=[]\n",
    "for each_x in x:\n",
    "    ynew1=b0+(b1*each_x)\n",
    "    print(\"new Y for g(\",each_x,\"):\",ynew1)\n",
    "    ynew11.append(ynew1)\n",
    "\n",
    "MSE_new = np.square(np.subtract(y,ynew11)).mean() \n",
    "print(\"MSE for New Y:\",MSE_new)\n",
    "print(\"LSE for New Y:\",MSE_new*len(ynew11))\n",
    "\n",
    "\n",
    "#-------------------------MSE for few values---------------------------------\n",
    "# Given values \n",
    "Y_true = [123,208,138]  # Y_true = Y (original values) \n",
    "  \n",
    "# Calculated values \n",
    "Y_pred = [116.36780566234235,211.27651838815603,184.64276087947457]  # Y_pred = Y' \n",
    "  \n",
    "# Mean Squared Error \n",
    "MSE = np.square(np.subtract(Y_true,Y_pred)).mean() \n",
    "print(\"MSE for few values:\",MSE)\n",
    "\n"
   ]
  },
  {
   "cell_type": "code",
   "execution_count": null,
   "metadata": {},
   "outputs": [],
   "source": []
  }
 ],
 "metadata": {
  "kernelspec": {
   "display_name": "Python 3 (ipykernel)",
   "language": "python",
   "name": "python3"
  },
  "language_info": {
   "codemirror_mode": {
    "name": "ipython",
    "version": 3
   },
   "file_extension": ".py",
   "mimetype": "text/x-python",
   "name": "python",
   "nbconvert_exporter": "python",
   "pygments_lexer": "ipython3",
   "version": "3.9.7"
  }
 },
 "nbformat": 4,
 "nbformat_minor": 4
}
